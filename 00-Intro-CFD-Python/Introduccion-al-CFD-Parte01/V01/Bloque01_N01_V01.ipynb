{
 "cells": [
  {
   "cell_type": "markdown",
   "metadata": {},
   "source": [
    "# Introducción a Python\n",
    "\n",
    "Si es que estás acá es porque deseas aprender a aplicar el lenguaje Python a la mecánica de fluidos , aunque claro, como en todo lo primero será que conozcas del lenguaje, y tal vez es la primera vez que oyes sobre este lenguaje de programación, vamos que no es cosa de otro mundo, si alguna vez has visto otro lenguaje de programación que te resultará de lo más fácil, total la mayoría acá somos de ciencias e ingenierías.\n",
    "\n",
    "Python es un lenguaje de programación\n",
    "* Orientado a objetos\n",
    "* Multipropósito\n",
    "* Interpretado\n",
    "* Fácil de aprender\n",
    "* Multiplataforma\n",
    "* Open-source\n",
    "\n",
    "## El poder de Python está en sus librerías\n",
    "\n",
    "Bien Python es cierto que cuenta con una librería estandar, pero si en verdad quiere sacarle el máximo provecho al lenguaje deberas aprender a trabajar con librerías, posiblemente leer la documentación de cada una.\n",
    "\n",
    "Para este curso usaremos princiaplemente:\n",
    "* Numpy\n",
    "* Pandas\n",
    "* Matplotlib\n",
    "* Simpy\n",
    "* Scipy\n",
    "Hay muchas otras pero ya habrán otros cursos donde los puedas ver.\n",
    "\n",
    "## Gestores de paquete Python\n",
    "\n",
    "Bueno contamos principalmente con 02, en este curso hemos definido usar el gestor de paquetes Conda de Anaconda, también existe PIP (Packing Install Python) aunque de esto último se lo dejamos a quien quiera, no hay diferencia en resultados solo en el camino; con Conda puedes bajar paquetes, las librerías de tu interés y automáticamente en caso requiera de algunas dependencias también las bajará, mientras con PIP uno mismo de manera manual lo debe hacer sino que sale error en la terminal.\n",
    "\n",
    "## Entornos virtuales\n",
    "\n",
    "El concetop de entorno virtual va en crear ambientes o esferas aisladas por decirlo de alguna manera, son lugares en memoria para trabajar con el lenguaje Python de manera independiente, "
   ]
  },
  {
   "cell_type": "code",
   "execution_count": null,
   "metadata": {},
   "outputs": [],
   "source": []
  }
 ],
 "metadata": {
  "kernelspec": {
   "display_name": "Python 3",
   "language": "python",
   "name": "python3"
  },
  "language_info": {
   "codemirror_mode": {
    "name": "ipython",
    "version": 3
   },
   "file_extension": ".py",
   "mimetype": "text/x-python",
   "name": "python",
   "nbconvert_exporter": "python",
   "pygments_lexer": "ipython3",
   "version": "3.6.8"
  }
 },
 "nbformat": 4,
 "nbformat_minor": 2
}
