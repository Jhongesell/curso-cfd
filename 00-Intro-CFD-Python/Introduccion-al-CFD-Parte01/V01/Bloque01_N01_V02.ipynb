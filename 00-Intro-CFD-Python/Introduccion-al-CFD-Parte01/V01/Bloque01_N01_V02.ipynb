{
 "cells": [
  {
   "cell_type": "markdown",
   "metadata": {},
   "source": [
    "# Variables"
   ]
  },
  {
   "cell_type": "code",
   "execution_count": 1,
   "metadata": {},
   "outputs": [],
   "source": [
    "x1 = 96\n",
    "x2 = 17\n",
    "x3 = 35\n",
    "x4 = 96.\n",
    "x5 = 17.0\n",
    "x6 = 17.00\n",
    "x7 = 'avión'\n",
    "x8 = 'casaca'\n",
    "x9 = 'cuaderno'"
   ]
  },
  {
   "cell_type": "markdown",
   "metadata": {},
   "source": [
    "# Tipos de objetos"
   ]
  },
  {
   "cell_type": "code",
   "execution_count": 3,
   "metadata": {},
   "outputs": [
    {
     "data": {
      "text/plain": [
       "int"
      ]
     },
     "execution_count": 3,
     "metadata": {},
     "output_type": "execute_result"
    }
   ],
   "source": [
    "type(x1)"
   ]
  },
  {
   "cell_type": "code",
   "execution_count": 4,
   "metadata": {},
   "outputs": [
    {
     "name": "stdout",
     "output_type": "stream",
     "text": [
      "<class 'int'>\n",
      "<class 'int'>\n",
      "<class 'int'>\n",
      "<class 'float'>\n",
      "<class 'float'>\n",
      "<class 'float'>\n",
      "<class 'str'>\n",
      "<class 'str'>\n",
      "<class 'str'>\n"
     ]
    }
   ],
   "source": [
    "print(type(x1))\n",
    "print(type(x2))\n",
    "print(type(x3))\n",
    "print(type(x4))\n",
    "print(type(x5))\n",
    "print(type(x6))\n",
    "print(type(x7))\n",
    "print(type(x8))\n",
    "print(type(x9))"
   ]
  },
  {
   "cell_type": "markdown",
   "metadata": {},
   "source": [
    "# Operadores matemáticos"
   ]
  },
  {
   "cell_type": "code",
   "execution_count": 1,
   "metadata": {},
   "outputs": [
    {
     "data": {
      "text/plain": [
       "24.0"
      ]
     },
     "execution_count": 1,
     "metadata": {},
     "output_type": "execute_result"
    }
   ],
   "source": [
    "12 + 12."
   ]
  },
  {
   "cell_type": "code",
   "execution_count": 2,
   "metadata": {},
   "outputs": [
    {
     "data": {
      "text/plain": [
       "24"
      ]
     },
     "execution_count": 2,
     "metadata": {},
     "output_type": "execute_result"
    }
   ],
   "source": [
    "12 + 12"
   ]
  },
  {
   "cell_type": "code",
   "execution_count": 3,
   "metadata": {},
   "outputs": [
    {
     "data": {
      "text/plain": [
       "2.0"
      ]
     },
     "execution_count": 3,
     "metadata": {},
     "output_type": "execute_result"
    }
   ],
   "source": [
    "14/7"
   ]
  },
  {
   "cell_type": "code",
   "execution_count": 4,
   "metadata": {},
   "outputs": [
    {
     "data": {
      "text/plain": [
       "2.0"
      ]
     },
     "execution_count": 4,
     "metadata": {},
     "output_type": "execute_result"
    }
   ],
   "source": [
    "14/7."
   ]
  },
  {
   "cell_type": "code",
   "execution_count": 5,
   "metadata": {},
   "outputs": [
    {
     "data": {
      "text/plain": [
       "2.142857142857143"
      ]
     },
     "execution_count": 5,
     "metadata": {},
     "output_type": "execute_result"
    }
   ],
   "source": [
    "15/7"
   ]
  },
  {
   "cell_type": "markdown",
   "metadata": {},
   "source": [
    "Para la versión 2 del interprete de Python se tenía que agregar la siguiente línea de comando en caso era de interés ejecutar divisiones entre enteros y estos de manera automática se quisiera presente el resultado como un decimal."
   ]
  },
  {
   "cell_type": "code",
   "execution_count": 6,
   "metadata": {},
   "outputs": [],
   "source": [
    "from __future__ import division"
   ]
  },
  {
   "cell_type": "code",
   "execution_count": 7,
   "metadata": {},
   "outputs": [
    {
     "data": {
      "text/plain": [
       "2.0"
      ]
     },
     "execution_count": 7,
     "metadata": {},
     "output_type": "execute_result"
    }
   ],
   "source": [
    "14/7"
   ]
  },
  {
   "cell_type": "markdown",
   "metadata": {},
   "source": [
    "# La identación\n",
    "A diferencia de otros lenguajes de programación en Python no se utilizan signos de colección para ejecutar bucles o estructuras repetitivas, esto se logra gracias a que se respeta la identación, la idea es que el programador use o las barras espaciadoras o las tabulaciones pero no en simultaneo ambas ya que el hacer esto traería inconsistencia en el código."
   ]
  },
  {
   "cell_type": "markdown",
   "metadata": {},
   "source": [
    "# Esquema For"
   ]
  },
  {
   "cell_type": "code",
   "execution_count": 9,
   "metadata": {},
   "outputs": [
    {
     "name": "stdout",
     "output_type": "stream",
     "text": [
      "Bienvenido a este primer curso\n",
      "Bienvenido a este primer curso\n",
      "Bienvenido a este primer curso\n",
      "Bienvenido a este primer curso\n",
      "Bienvenido a este primer curso\n",
      "Bienvenido a este primer curso\n",
      "Bienvenido a este primer curso\n",
      "Bienvenido a este primer curso\n",
      "Bienvenido a este primer curso\n",
      "Bienvenido a este primer curso\n"
     ]
    }
   ],
   "source": [
    "for i in range(10):\n",
    "    print(\"Bienvenido a este primer curso\")"
   ]
  },
  {
   "cell_type": "markdown",
   "metadata": {},
   "source": [
    "# Bucles anidados caso For"
   ]
  },
  {
   "cell_type": "code",
   "execution_count": 35,
   "metadata": {},
   "outputs": [
    {
     "name": "stdout",
     "output_type": "stream",
     "text": [
      "0 0 0\n",
      "-----------\n",
      "x: 0\n",
      "y: 0\n",
      "z: 0\n",
      "***********\n",
      "Estamos en la sentencia que incluye a la i, j, k\n",
      "0 0 1\n",
      "-----------\n",
      "x: 0\n",
      "y: 0\n",
      "z: 1\n",
      "***********\n",
      "Estamos en la sentencia que incluye a la i, j, k\n",
      "Estamos en la sentencia que incluye a la i, j\n",
      "0 1 0\n",
      "-----------\n",
      "x: 0\n",
      "y: 1\n",
      "z: 0\n",
      "***********\n",
      "Estamos en la sentencia que incluye a la i, j, k\n",
      "0 1 1\n",
      "-----------\n",
      "x: 0\n",
      "y: 1\n",
      "z: 1\n",
      "***********\n",
      "Estamos en la sentencia que incluye a la i, j, k\n",
      "Estamos en la sentencia que incluye a la i, j\n",
      "Estamos en la sentencia que incluye a la i\n",
      "1 0 0\n",
      "-----------\n",
      "x: 1\n",
      "y: 0\n",
      "z: 0\n",
      "***********\n",
      "Estamos en la sentencia que incluye a la i, j, k\n",
      "1 0 1\n",
      "-----------\n",
      "x: 1\n",
      "y: 0\n",
      "z: 1\n",
      "***********\n",
      "Estamos en la sentencia que incluye a la i, j, k\n",
      "Estamos en la sentencia que incluye a la i, j\n",
      "1 1 0\n",
      "-----------\n",
      "x: 1\n",
      "y: 1\n",
      "z: 0\n",
      "***********\n",
      "Estamos en la sentencia que incluye a la i, j, k\n",
      "1 1 1\n",
      "-----------\n",
      "x: 1\n",
      "y: 1\n",
      "z: 1\n",
      "***********\n",
      "Estamos en la sentencia que incluye a la i, j, k\n",
      "Estamos en la sentencia que incluye a la i, j\n",
      "Estamos en la sentencia que incluye a la i\n"
     ]
    }
   ],
   "source": [
    "for i in range(2):\n",
    "    for j in range(2):\n",
    "        for k in range(2):\n",
    "            print(i, j, k)\n",
    "            print(\"-----------\")\n",
    "            print(\"x: \" + str(i))\n",
    "            print(\"y: \" + str(j))\n",
    "            print(\"z: \" + str(k))\n",
    "            print('***********')\n",
    "            print(\"Estamos en la sentencia que incluye a la i, j, k\")\n",
    "        print(\"Estamos en la sentencia que incluye a la i, j\")\n",
    "    print(\"Estamos en la sentencia que incluye a la i\")\n",
    "            "
   ]
  },
  {
   "cell_type": "markdown",
   "metadata": {},
   "source": [
    "# Guía de estilo al momento de programar en Python PEP - 8\n",
    "El PEP-8 es una sugerencia que se hace a los nuevos, es decir si vas a comenzar algo es mejor que lo hagas de buena manera y aprendas los hábitos que se recomiendan, pasa que en el mundo del desarrollo puede que te toque tocar código ajeno y para ello deberas entender que es lo que hizo la otra persona, aunque si no se pone un guía de como programar gastarás más tiempo en tratar de entender que empezar a programar, son como 88 normas, sugiero que los leas en:\n",
    "\n",
    "[Guía de estilo PEP-8 en ingles](https://www.python.org/dev/peps/pep-0008/ \"titulo\")"
   ]
  },
  {
   "cell_type": "code",
   "execution_count": null,
   "metadata": {},
   "outputs": [],
   "source": []
  }
 ],
 "metadata": {
  "kernelspec": {
   "display_name": "Python 3",
   "language": "python",
   "name": "python3"
  },
  "language_info": {
   "codemirror_mode": {
    "name": "ipython",
    "version": 3
   },
   "file_extension": ".py",
   "mimetype": "text/x-python",
   "name": "python",
   "nbconvert_exporter": "python",
   "pygments_lexer": "ipython3",
   "version": "3.6.8"
  }
 },
 "nbformat": 4,
 "nbformat_minor": 2
}
