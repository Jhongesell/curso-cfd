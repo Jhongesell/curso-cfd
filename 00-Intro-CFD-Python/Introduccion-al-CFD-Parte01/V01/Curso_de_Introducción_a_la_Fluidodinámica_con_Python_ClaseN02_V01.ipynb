{
 "cells": [
  {
   "cell_type": "markdown",
   "metadata": {},
   "source": [
    "# 1º Curso de Introducción a la Fluidodinámica con el Lenguaje de Programación Python (Clase N02)\n",
    "\n",
    "### Operaciones con arrays desde la librería Numpy\n",
    "\n",
    "La librería Numpy nos acompañará para el desarrollo de calculos donde se requiera mayor potencia con la finalidad de aumentar la velocidad de procesamiento, a continuación veamos la ecuación:\n",
    "\n",
    "$$u^{n+1}_i = u^n_i-u^n_{i-1}$$\n",
    "\n",
    "Si tenemos el vector definido para $u^n = [0, 1, 2, 3, 4, 5]\\ \\ $, encontramos los valores de $u^{n+1}$ haciendo interaciones sobre los valores de $u^n$ con el esquema `for`."
   ]
  },
  {
   "cell_type": "code",
   "execution_count": 1,
   "metadata": {},
   "outputs": [
    {
     "name": "stdout",
     "output_type": "stream",
     "text": [
      "1\n",
      "1\n",
      "1\n",
      "1\n",
      "1\n"
     ]
    }
   ],
   "source": [
    "import numpy as np\n",
    "\n",
    "u = np.array((0, 1, 2, 3, 4, 5))\n",
    "\n",
    "for i in range(1, len(u)): # i : contador que recorre el intervalo generado desde 1 hasta el valor de len(u)\n",
    "    print(u[i]-u[i-1])"
   ]
  },
  {
   "cell_type": "code",
   "execution_count": 2,
   "metadata": {},
   "outputs": [
    {
     "name": "stdout",
     "output_type": "stream",
     "text": [
      "Ejemplo de operaciones con listas:\n",
      "Nuestro vector u es:[0 1 2 3 4 5]\n",
      "------\n",
      "Ahora hacemos:\n",
      "u[1:] = [1 2 3 4 5]\n",
      "u[0:-1] = [0 1 2 3 4]\n",
      "-------\n",
      "u[1:]-u[0:-1] = [1 1 1 1 1]\n"
     ]
    }
   ],
   "source": [
    "# Otro calculo:\n",
    "print(\"Ejemplo de operaciones con listas:\")\n",
    "print(\"Nuestro vector u es:\" + str(u))\n",
    "print(\"------\")\n",
    "print(\"Ahora hacemos:\")\n",
    "print(\"u[1:] = \" + str(u[1:]))\n",
    "print(\"u[0:-1] = \" + str(u[0:-1]))\n",
    "print(\"-------\")\n",
    "print(\"u[1:]-u[0:-1] = \" + str(u[1:]-u[0:-1]))\n"
   ]
  },
  {
   "cell_type": "markdown",
   "metadata": {},
   "source": [
    "### Velocidad en calculo"
   ]
  },
  {
   "cell_type": "code",
   "execution_count": 3,
   "metadata": {},
   "outputs": [
    {
     "name": "stdout",
     "output_type": "stream",
     "text": [
      "u:\n",
      "[[1. 1. 1. ... 1. 1. 1.]\n",
      " [1. 1. 1. ... 1. 1. 1.]\n",
      " [1. 1. 1. ... 1. 1. 1.]\n",
      " ...\n",
      " [1. 1. 1. ... 1. 1. 1.]\n",
      " [1. 1. 1. ... 1. 1. 1.]\n",
      " [1. 1. 1. ... 1. 1. 1.]]\n",
      "un:\n",
      "[[1. 1. 1. ... 1. 1. 1.]\n",
      " [1. 1. 1. ... 1. 1. 1.]\n",
      " [1. 1. 1. ... 1. 1. 1.]\n",
      " ...\n",
      " [1. 1. 1. ... 1. 1. 1.]\n",
      " [1. 1. 1. ... 1. 1. 1.]\n",
      " [1. 1. 1. ... 1. 1. 1.]]\n",
      "Nuevo valor de u:\n",
      "[[1. 1. 1. ... 1. 1. 1.]\n",
      " [1. 1. 1. ... 1. 1. 1.]\n",
      " [1. 1. 1. ... 1. 1. 1.]\n",
      " ...\n",
      " [1. 1. 1. ... 1. 1. 1.]\n",
      " [1. 1. 1. ... 1. 1. 1.]\n",
      " [1. 1. 1. ... 1. 1. 1.]]\n"
     ]
    }
   ],
   "source": [
    "x = 2.\n",
    "y = 2.\n",
    "nx = 81\n",
    "ny = 81\n",
    "nt = 100\n",
    "c = 1\n",
    "dx = x/(nx-1)\n",
    "dy = y/(ny-1)\n",
    "sigma = .2\n",
    "dt = sigma*dx\n",
    "\n",
    "y1 = .5\n",
    "y2 = 1.\n",
    "\n",
    "x1 = .5\n",
    "x2 = 1.\n",
    "\n",
    "ue = 2\n",
    "\n",
    "x = np.linspace(0, x, nx)\n",
    "y = np.linspace(0, y, ny)\n",
    "\n",
    "u = np.ones((ny,nx))\n",
    "un = np.ones((ny,nx))\n",
    "print(\"u:\")\n",
    "print(u)\n",
    "print(\"un:\")\n",
    "print(un)\n",
    "\n",
    "u[int(y1/dy):int(y2/dy+1) , int(x1/dx):int(x2/dx+1)]=ue\n",
    "print(\"Nuevo valor de u:\")\n",
    "print(u)"
   ]
  },
  {
   "cell_type": "markdown",
   "metadata": {},
   "source": [
    "**Nota:** Usaremos la función mágica ``%%timeit`` para medir el tiempo aproximado de la ejecución de nuestro programa."
   ]
  },
  {
   "cell_type": "code",
   "execution_count": 4,
   "metadata": {},
   "outputs": [
    {
     "name": "stdout",
     "output_type": "stream",
     "text": [
      "4.51 s ± 108 ms per loop (mean ± std. dev. of 7 runs, 1 loop each)\n"
     ]
    }
   ],
   "source": [
    "%%timeit\n",
    "u = np.ones((ny,nx))\n",
    "u[int(y1/dy):int(y2/dy+1),int(x1/dx):int(x2/dx+1)]=ue\n",
    "\n",
    "for n in range(nt+1):\n",
    "    un[:] = u[:]\n",
    "    for i in range(1, len(u)):\n",
    "        for j in range(1, len(u)):\n",
    "            u[i,j] = un[i,j]-(c*(dt/dx)*(un[i,j] - un[i-1,j]))-(c*(dt/dy)*(un[i,j]-un[i,j-1]))\n",
    "            u[0,:] = 1\n",
    "            u[-1,:] = 1\n",
    "            u[:,0] = 1\n",
    "            u[:, -1] = 1\n",
    "            \n",
    "            "
   ]
  },
  {
   "cell_type": "markdown",
   "metadata": {},
   "source": [
    "Ahora hacemos un nuevo calculo:"
   ]
  },
  {
   "cell_type": "code",
   "execution_count": 5,
   "metadata": {},
   "outputs": [
    {
     "name": "stdout",
     "output_type": "stream",
     "text": [
      "8.51 ms ± 79.1 µs per loop (mean ± std. dev. of 7 runs, 100 loops each)\n"
     ]
    }
   ],
   "source": [
    "%%timeit\n",
    "u = np.ones((ny,nx))\n",
    "u[int(y1/dy):int(y2/dy+1),int(x1/dx):int(x2/dx+1)]=ue\n",
    "\n",
    "for n in range(nt+1):\n",
    "    un[:] = u[:]\n",
    "    u[1:,1:]=un[1:, 1:] - (c*-(dt/dx)*(un[1:, 1:]-un[0:-1, 1:])) - (c*(dt/dy)*(un[1:,1:]-un[1:,0:-1]))\n",
    "    u[0,:] = 1\n",
    "    u[-1,:] = 1\n",
    "    u[:,0] = 1\n",
    "    u[:, -1] = 1"
   ]
  },
  {
   "cell_type": "markdown",
   "metadata": {},
   "source": [
    "Los ejercicos que hemos llegado a abordar hasta hora unicamente se estaba logrando para 1-D , ahora lo haremos para 2-D"
   ]
  }
 ],
 "metadata": {
  "kernelspec": {
   "display_name": "Python 3",
   "language": "python",
   "name": "python3"
  },
  "language_info": {
   "codemirror_mode": {
    "name": "ipython",
    "version": 3
   },
   "file_extension": ".py",
   "mimetype": "text/x-python",
   "name": "python",
   "nbconvert_exporter": "python",
   "pygments_lexer": "ipython3",
   "version": "3.6.9"
  }
 },
 "nbformat": 4,
 "nbformat_minor": 2
}
